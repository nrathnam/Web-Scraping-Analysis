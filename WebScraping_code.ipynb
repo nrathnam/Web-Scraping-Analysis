{
 "cells": [
  {
   "cell_type": "code",
   "execution_count": 1,
   "metadata": {
    "collapsed": false
   },
   "outputs": [
    {
     "name": "stderr",
     "output_type": "stream",
     "text": [
      "C:\\Users\\trichna\\AppData\\Local\\Continuum\\Anaconda2\\lib\\site-packages\\bs4\\__init__.py:166: UserWarning: No parser was explicitly specified, so I'm using the best available HTML parser for this system (\"lxml\"). This usually isn't a problem, but if you run this code on another system, or in a different virtual environment, it may use a different parser and behave differently.\n",
      "\n",
      "To get rid of this warning, change this:\n",
      "\n",
      " BeautifulSoup([your markup])\n",
      "\n",
      "to this:\n",
      "\n",
      " BeautifulSoup([your markup], \"lxml\")\n",
      "\n",
      "  markup_type=markup_type))\n"
     ]
    }
   ],
   "source": [
    "#Python code for scraping Economist website and fetching Business school ranking data \n",
    "#using Beautiful Soup\n",
    "import urllib2\n",
    "import re, requests\n",
    "from bs4 import BeautifulSoup\n",
    "opener = urllib2.build_opener()\n",
    "opener.addheaders = [('User-agent', 'Chrome/52.0')]\n",
    "university = []\n",
    "#Extract the first level of information about the university B'schools, ranks and their locations\n",
    "for i in range(10):\n",
    "    if (i == 0):\n",
    "        url = \"http://www.economist.com/whichmba/full-time-mba-ranking\"\n",
    "    else:\n",
    "        url = \"http://www.economist.com/whichmba/full-time-mba-ranking?page=\" + str(i)\n",
    "    response = opener.open(url)\n",
    "    page = response.read()\n",
    "    #print i\n",
    "    university.append(BeautifulSoup(page))\n"
   ]
  },
  {
   "cell_type": "code",
   "execution_count": 153,
   "metadata": {
    "collapsed": false
   },
   "outputs": [],
   "source": [
    "#Extract the details regarding the university Business school name, its rank and location\n",
    "#First extract all the tags\n",
    "univRankList = []\n",
    "univSchoolList = []\n",
    "univLocationList = []\n",
    "for i in range(10):\n",
    "    univrank = university[i].find_all('td', {'class': \"views-field views-field-field-wmba-school-rank-overall-value active\"})\n",
    "    univRankList.append(univrank)\n",
    "    univSchool = university[i].find_all('td', {'class': \"views-field views-field-field-wmba-school-name-alpha-value\"})\n",
    "    univSchoolList.append(univSchool)\n",
    "    univLocation = university[i].find_all('td', {'class': \"views-field views-field-name\"})\n",
    "    univLocationList.append(univLocation)\n",
    "    \n",
    "univ_school = []; univ_rank =[]; univ_location = []; univ_school_url = []\n",
    "\n",
    "#Once the tags are extracted, fetch the value contained within those tags\n",
    "for i in range(10):\n",
    "    univ_school.append([tag.get_text().strip().encode('utf-8') for tag in univSchoolList[i]])\n",
    "    univ_rank.append([tag.get_text().strip().encode('utf-8') for tag in univRankList[i]])\n",
    "    univ_location.append([tag.get_text().strip().encode('utf-8') for tag in univLocationList[i]]) \n",
    "    for j in range(10):\n",
    "        univ_school_url.append(univSchoolList[i][j].a.get('href'))\n",
    "\n",
    "# Flatten the list of lists by performing  an aggregate function and return the result as a simple list    \n",
    "univ_school = sum(univ_school,[])\n",
    "univ_rank = sum(univ_rank,[])\n",
    "univ_location = sum(univ_location,[])\n",
    "\n",
    "#Concaatenate the data into a single dataframe\n",
    "school_rank_location = pd.DataFrame([univ_school,univ_rank,univ_location], index=['School Name','Rank','Location'])\n",
    "school_rank_location = school_rank_location.T\n",
    " \n"
   ]
  },
  {
   "cell_type": "code",
   "execution_count": null,
   "metadata": {
    "collapsed": false
   },
   "outputs": [],
   "source": []
  },
  {
   "cell_type": "code",
   "execution_count": 3,
   "metadata": {
    "collapsed": false
   },
   "outputs": [],
   "source": [
    "#Extract the Cost, Facility, Faculty, Programme, Student and Recruiter data from The Economist \n",
    "# Ranking, Application and Accreditation details are not required for our analysis\n",
    "\n",
    "root_web = 'http://www.economist.com/'\n",
    "university_school_details = []\n",
    "for  j in range(100):\n",
    "    for k in range(9):\n",
    "        if (k != 0 and k != 2 and k != 8):\n",
    "            school_full_url = root_web + univ_school_url[j] + '?tab=' + str(k)\n",
    "            response = opener.open(school_full_url)\n",
    "            page = response.read()\n",
    "            #print 'j=',j\n",
    "            soup = BeautifulSoup(page)\n",
    "            university_school_details.append(BeautifulSoup(page))"
   ]
  },
  {
   "cell_type": "code",
   "execution_count": 131,
   "metadata": {
    "collapsed": false
   },
   "outputs": [],
   "source": [
    "univ_facilities_dict = {}; univ_cost_dict = {}; univ_faculty_dict = {}; univ_programme_dict = {}; \n",
    "univ_students_dict = {}; univ_recruiters_dict = {}\n",
    "#i = 0\n",
    "for i in range(600):  # replace range 600\n",
    "    school_name = university_school_details[i].find_all('h2')\n",
    "    school_name = school_name[1].get_text().encode('utf-8')\n",
    "    if (i % 6 == 0 ):\n",
    "        j = 0\n",
    "    else:\n",
    "        j = j + 1\n",
    "    \n",
    "    if (j == 0):\n",
    "        univ_cost = university_school_details[i].find_all('tr', {'class':['odd', 'even']} )\n",
    "        univ_cost_dict[school_name] = univ_cost\n",
    "    if (j == 1):\n",
    "        univ_facilities = university_school_details[i].find_all('tr', {'class':['odd', 'even']} )\n",
    "        univ_facilities_dict[school_name] = univ_facilities\n",
    "    if (j == 2):\n",
    "        univ_faculty = university_school_details[i].find_all('tr', {'class':['odd', 'even']} )\n",
    "        univ_faculty_dict[school_name] = univ_faculty\n",
    "    if (j == 3):\n",
    "        univ_programme = university_school_details[i].find_all('tr', {'class':['odd', 'even']} )\n",
    "        univ_programme_dict[school_name] = univ_programme\n",
    "    if (j == 4):\n",
    "        univ_students = university_school_details[i].find_all('tr', {'class':['odd', 'even']} )\n",
    "        univ_students_dict[school_name] = univ_students\n",
    "    if (j == 5):\n",
    "        univ_recruiters = university_school_details[i].find_all('tr', {'class':['odd', 'even']} )\n",
    "        univ_recruiters_dict[school_name] = univ_recruiters"
   ]
  },
  {
   "cell_type": "code",
   "execution_count": 154,
   "metadata": {
    "collapsed": false
   },
   "outputs": [],
   "source": [
    "#print univ_cost_dict     "
   ]
  },
  {
   "cell_type": "code",
   "execution_count": null,
   "metadata": {
    "collapsed": false
   },
   "outputs": [],
   "source": []
  },
  {
   "cell_type": "code",
   "execution_count": null,
   "metadata": {
    "collapsed": false
   },
   "outputs": [],
   "source": []
  },
  {
   "cell_type": "code",
   "execution_count": 132,
   "metadata": {
    "collapsed": false
   },
   "outputs": [],
   "source": [
    "\n",
    "str_univ_cost = ''\n",
    " \n",
    "for i in univ_cost_dict.keys():\n",
    "    str_univ_cost = str(univ_cost_dict[i])\n",
    "    univ_cost_dict[i] = str_univ_cost.split('</tr>,')[2:]\n",
    "\n",
    "#print univ_cost_dict.items()\n",
    "\n",
    "for i in univ_cost_dict.keys():\n",
    "    univ_cost_details = {}; variable = '' ; value = ''; val = []\n",
    "    val = univ_cost_dict[i]\n",
    "    for j in range(len(val)):\n",
    "        val = univ_cost_dict[i]\n",
    "        variable, value = re.findall('<td>.*?</td>'  ,val[j])\n",
    "        variable = re.sub('<[^<]+?>', '', variable)\n",
    "        variable = re.sub( '[\\$()' '\\/]','' ,variable)\n",
    "        variable = variable.strip()\n",
    "        value = re.sub('<[^<]+?>', '', value)\n",
    "        value = re.sub( '[\\$' '\\/,]','' ,value)\n",
    "        value = re.sub( '\\(.*?\\)','' ,value)\n",
    "        value = value.strip()\n",
    "        univ_cost_details[variable] = value\n",
    "    univ_cost_dict[i] = univ_cost_details   \n",
    "    \n"
   ]
  },
  {
   "cell_type": "code",
   "execution_count": 95,
   "metadata": {
    "collapsed": false
   },
   "outputs": [],
   "source": []
  },
  {
   "cell_type": "code",
   "execution_count": 133,
   "metadata": {
    "collapsed": false
   },
   "outputs": [],
   "source": [
    "\n"
   ]
  },
  {
   "cell_type": "code",
   "execution_count": 133,
   "metadata": {
    "collapsed": false
   },
   "outputs": [],
   "source": [
    "str_univ_faculty = ''\n",
    " \n",
    "for i in univ_faculty_dict.keys():\n",
    "    str_univ_faculty = str(univ_faculty_dict[i])\n",
    "    univ_faculty_dict[i] = str_univ_faculty.split('</tr>,')[2:]\n",
    "\n",
    "#print univ_faculty_dict.items()\n",
    "\n",
    "for i in univ_faculty_dict.keys():\n",
    "    univ_faculty_details = {}; variable = '' ; value = ''; val = []\n",
    "    val = univ_faculty_dict[i]\n",
    "    for j in range(len(val)):\n",
    "        val = univ_faculty_dict[i]\n",
    "        variable, value = re.findall('<td>.*?</td>'  ,val[j])\n",
    "        variable = re.sub('<[^<]+?>', '', variable)\n",
    "        variable = re.sub( '[\\$()' '\\/]','' ,variable)\n",
    "        variable = variable.strip()\n",
    "        value = re.sub('<[^<]+?>', '', value)\n",
    "        value = re.sub( '[\\$' '\\/,]','' ,value)\n",
    "        value = re.sub('\\(.*?\\)' ,'' ,value)\n",
    "        value = value.strip()\n",
    "        univ_faculty_details[variable] = value\n",
    "    univ_faculty_dict[i] = univ_faculty_details   "
   ]
  },
  {
   "cell_type": "code",
   "execution_count": 155,
   "metadata": {
    "collapsed": false
   },
   "outputs": [],
   "source": [
    "#print univ_faculty_dict.items()\n",
    "\n",
    "    \n"
   ]
  },
  {
   "cell_type": "code",
   "execution_count": null,
   "metadata": {
    "collapsed": false
   },
   "outputs": [],
   "source": []
  },
  {
   "cell_type": "code",
   "execution_count": 134,
   "metadata": {
    "collapsed": false
   },
   "outputs": [],
   "source": [
    "str_univ_facilities = ''\n",
    " \n",
    "for i in univ_facilities_dict.keys():\n",
    "    str_univ_facilities = str(univ_facilities_dict[i])\n",
    "    univ_facilities_dict[i] = str_univ_facilities.split('</tr>,')[2:]\n",
    "\n",
    "#print univ_facilities_dict.items()\n",
    "\n",
    "for i in univ_facilities_dict.keys():\n",
    "    univ_facilities_details = {}; variable = '' ; value = ''; val = []\n",
    "    val = univ_facilities_dict[i]\n",
    "    for j in range(len(val)):\n",
    "        val = univ_facilities_dict[i]\n",
    "        variable, value = re.findall('<td>.*?</td>'  ,val[j])\n",
    "        variable = re.sub('<[^<]+?>', '', variable)\n",
    "        variable = re.sub( '[\\$()' '\\/]','' ,variable)\n",
    "        variable = variable.strip()\n",
    "        value = re.sub('<[^<]+?>', '', value)\n",
    "        value = re.sub( '[\\$' '\\/,]','' ,value)\n",
    "        value = re.sub( '\\(.*?\\)','' ,value)\n",
    "        value = value.strip()\n",
    "        univ_facilities_details[variable] = value\n",
    "    univ_facilities_dict[i] = univ_facilities_details   \n",
    "    \n"
   ]
  },
  {
   "cell_type": "code",
   "execution_count": 108,
   "metadata": {
    "collapsed": false
   },
   "outputs": [
    {
     "name": "stdout",
     "output_type": "stream",
     "text": [
      "[('University of Chicago \\xe2\\x80\\x93 Booth School of Business', {'Student assessment of facilities out of 5': '4.67'})]\n"
     ]
    }
   ],
   "source": [
    "#print univ_facilities_dict.items()"
   ]
  },
  {
   "cell_type": "code",
   "execution_count": 135,
   "metadata": {
    "collapsed": false
   },
   "outputs": [],
   "source": [
    "str_univ_programme = ''\n",
    " \n",
    "for i in univ_programme_dict.keys():\n",
    "    str_univ_programme = str(univ_programme_dict[i])\n",
    "    univ_programme_dict[i] = str_univ_programme.split('</tr>,')[2:]\n",
    "\n",
    "\n",
    "for i in univ_programme_dict.keys():\n",
    "    univ_programme_details = {}; variable = '' ; value = ''; val = []\n",
    "    val = univ_programme_dict[i]\n",
    "    for j in range(len(val)):\n",
    "        val = univ_programme_dict[i]\n",
    "        variable, value = re.findall('<td>.*?</td>'  ,val[j])\n",
    "        variable = re.sub('<[^<]+?>', '', variable)\n",
    "        variable = re.sub( '[\\$()' '\\/]','' ,variable)\n",
    "        variable = variable.strip()\n",
    "        value = re.sub('<[^<]+?>', '', value)\n",
    "        value = re.sub( '[\\$' '\\/,]','' ,value)\n",
    "        value = re.sub('\\(.*?\\)',''  , value)\n",
    "        value = value.strip()\n",
    "        univ_programme_details[variable] = value\n",
    "    univ_programme_dict[i] = univ_programme_details  \n",
    "    \n",
    "#print univ_programme_dict.items()"
   ]
  },
  {
   "cell_type": "code",
   "execution_count": 136,
   "metadata": {
    "collapsed": false
   },
   "outputs": [],
   "source": [
    "str_univ_students = ''\n",
    " \n",
    "for i in univ_students_dict.keys():\n",
    "    str_univ_students = str(univ_students_dict[i])\n",
    "    univ_students_dict[i] = str_univ_students.split('</tr>,')[2:]\n",
    "\n",
    "\n",
    "for i in univ_students_dict.keys():\n",
    "    univ_students_details = {}; variable = '' ; value = ''; val = []\n",
    "    val = univ_students_dict[i]\n",
    "    for j in range(len(val)):\n",
    "        val = univ_students_dict[i]\n",
    "        variable, value = re.findall('<td>.*?</td>'  ,val[j])\n",
    "        variable = re.sub('<[^<]+?>', '', variable)\n",
    "        variable = re.sub( '[\\$()' '\\/\\']','' ,variable)\n",
    "        #variable = re.sub( '[\\']','' ,variable)\n",
    "        variable = variable.strip()\n",
    "        value = re.sub('<[^<]+?>', '', value)\n",
    "        value = re.sub( '[\\$' '\\/]','' ,value)\n",
    "        value = re.sub( '\\(.*?\\)','' ,value)\n",
    "        value = value.strip()\n",
    "        univ_students_details[variable] = value\n",
    "    univ_students_dict[i] = univ_students_details  \n",
    "    \n",
    "#print univ_students_dict.items()"
   ]
  },
  {
   "cell_type": "code",
   "execution_count": 137,
   "metadata": {
    "collapsed": false
   },
   "outputs": [],
   "source": [
    "str_univ_recruiters = ''\n",
    " \n",
    "for i in univ_recruiters_dict.keys():\n",
    "    str_univ_recruiters = str(univ_recruiters_dict[i])\n",
    "    univ_recruiters_dict[i] = str_univ_recruiters.split('</tr>,')[2:]\n",
    "\n",
    "\n",
    "for i in univ_recruiters_dict.keys():\n",
    "    univ_recruiters_details = {}; variable = '' ; value = ''; val = []\n",
    "    val = univ_recruiters_dict[i]\n",
    "    for j in range(len(val)):\n",
    "        val = univ_recruiters_dict[i]\n",
    "        variable, value = re.findall('<td>.*?</td>'  ,val[j])\n",
    "        variable = re.sub('<[^<]+?>', '', variable)\n",
    "        variable = re.sub( '[\\$()' '\\/\\']','' ,variable)\n",
    "        #variable = re.sub( '[\\']','' ,variable)\n",
    "        variable = variable.strip()\n",
    "        value = re.sub('<[^<]+?>', '', value)\n",
    "        value = re.sub( '[\\$' '\\/]','' ,value)\n",
    "        value = re.sub( '\\(.*?\\)','' ,value)\n",
    "        value = value.strip()\n",
    "        univ_recruiters_details[variable] = value\n",
    "    univ_recruiters_dict[i] = univ_recruiters_details  \n",
    "    \n",
    "#print univ_recruiters_dict.items()"
   ]
  },
  {
   "cell_type": "code",
   "execution_count": 138,
   "metadata": {
    "collapsed": false
   },
   "outputs": [],
   "source": [
    "import pandas as pd\n",
    "df_faculty = pd.DataFrame(univ_faculty_dict.values())\n",
    "df_faculty_school = pd.DataFrame(univ_faculty_dict.keys(), columns = ['School Name'])\n",
    "df_faculty_info = pd.concat([df_faculty_school,df_faculty], axis = 1 )\n",
    "#df_faculty_info"
   ]
  },
  {
   "cell_type": "code",
   "execution_count": 139,
   "metadata": {
    "collapsed": false
   },
   "outputs": [],
   "source": [
    "\n",
    "df_recruiters = pd.DataFrame(univ_recruiters_dict.values())\n",
    "df_recruit_school = pd.DataFrame(univ_recruiters_dict.keys(), columns = ['School Name'])\n",
    "df_recruitment_info = pd.concat([df_recruit_school,df_recruiters], axis = 1 )\n",
    "#df_recruitment_info"
   ]
  },
  {
   "cell_type": "code",
   "execution_count": 140,
   "metadata": {
    "collapsed": false,
    "scrolled": true
   },
   "outputs": [],
   "source": [
    "df_students = pd.DataFrame(univ_students_dict.values())\n",
    "df_students_school = pd.DataFrame(univ_students_dict.keys(), columns = ['School Name'])\n",
    "df_students_info = pd.concat([df_students_school,df_students], axis = 1 )\n",
    "#df_students_info"
   ]
  },
  {
   "cell_type": "code",
   "execution_count": 156,
   "metadata": {
    "collapsed": false
   },
   "outputs": [],
   "source": [
    "df_cost = pd.DataFrame(univ_cost_dict.values())\n",
    "df_cost_school = pd.DataFrame(univ_cost_dict.keys(), columns = ['School Name'])\n",
    "df_cost_info = pd.concat([df_cost_school,df_cost], axis = 1 )\n",
    "#df_cost_info"
   ]
  },
  {
   "cell_type": "code",
   "execution_count": 142,
   "metadata": {
    "collapsed": false
   },
   "outputs": [],
   "source": [
    "df_facilities = pd.DataFrame(univ_facilities_dict.values())\n",
    "df_facilities_school = pd.DataFrame(univ_facilities_dict.keys(), columns = ['School Name'])\n",
    "df_facilities_info = pd.concat([df_facilities_school,df_facilities], axis = 1 )\n",
    "#df_facilities_info"
   ]
  },
  {
   "cell_type": "code",
   "execution_count": 143,
   "metadata": {
    "collapsed": false
   },
   "outputs": [],
   "source": [
    "df_programme = pd.DataFrame(univ_programme_dict.values())\n",
    "df_programme_school = pd.DataFrame(univ_programme_dict.keys(), columns = ['School Name'])\n",
    "df_programme_info = pd.concat([df_programme_school,df_programme], axis = 1 )\n",
    "#df_programme_info"
   ]
  },
  {
   "cell_type": "code",
   "execution_count": 144,
   "metadata": {
    "collapsed": false
   },
   "outputs": [],
   "source": [
    "school_info = [df_cost_info, df_facilities_info, df_faculty_info, df_programme_info ,df_recruitment_info, df_students_info  ]\n",
    "school_merged_info = reduce(lambda left, right: pd.merge(left, right, on =\"School Name\" ), school_info )"
   ]
  },
  {
   "cell_type": "code",
   "execution_count": 119,
   "metadata": {
    "collapsed": false
   },
   "outputs": [
    {
     "data": {
      "text/html": [
       "<div>\n",
       "<table border=\"1\" class=\"dataframe\">\n",
       "  <thead>\n",
       "    <tr style=\"text-align: right;\">\n",
       "      <th></th>\n",
       "      <th>School Name</th>\n",
       "      <th>Accommodation costs off campus, per year,</th>\n",
       "      <th>Accommodation costs on campus, per year,</th>\n",
       "      <th>Application fees</th>\n",
       "      <th>Comments</th>\n",
       "      <th>Criteria on which aid is granted</th>\n",
       "      <th>Financial aid available</th>\n",
       "      <th>Programme fees</th>\n",
       "      <th>Type of aid available</th>\n",
       "      <th>Student assessment of facilities out of 5</th>\n",
       "      <th>...</th>\n",
       "      <th>Average GMAT score</th>\n",
       "      <th>Average age</th>\n",
       "      <th>Average number of years work experience</th>\n",
       "      <th>Europe</th>\n",
       "      <th>Gender diversity score out of 100</th>\n",
       "      <th>Geographical diversity score out of 100</th>\n",
       "      <th>North America</th>\n",
       "      <th>Number of applicants per full-time place</th>\n",
       "      <th>Other Americas</th>\n",
       "      <th>Student rating of culture and classmates out of 5</th>\n",
       "    </tr>\n",
       "  </thead>\n",
       "  <tbody>\n",
       "    <tr>\n",
       "      <th>0</th>\n",
       "      <td>University of Chicago – Booth School of Business</td>\n",
       "      <td>14520</td>\n",
       "      <td>na</td>\n",
       "      <td>250</td>\n",
       "      <td>Per year next academic year</td>\n",
       "      <td>Merit</td>\n",
       "      <td>Yes</td>\n",
       "      <td>63980</td>\n",
       "      <td></td>\n",
       "      <td>4.67</td>\n",
       "      <td>...</td>\n",
       "      <td>730</td>\n",
       "      <td>27</td>\n",
       "      <td>4.6</td>\n",
       "      <td>10</td>\n",
       "      <td>72.0</td>\n",
       "      <td>52.9</td>\n",
       "      <td>58</td>\n",
       "      <td>7</td>\n",
       "      <td>12</td>\n",
       "      <td>4.60</td>\n",
       "    </tr>\n",
       "  </tbody>\n",
       "</table>\n",
       "<p>1 rows × 37 columns</p>\n",
       "</div>"
      ],
      "text/plain": [
       "                                        School Name  \\\n",
       "0  University of Chicago – Booth School of Business   \n",
       "\n",
       "  Accommodation costs off campus, per year,  \\\n",
       "0                                     14520   \n",
       "\n",
       "  Accommodation costs on campus, per year, Application fees  \\\n",
       "0                                       na              250   \n",
       "\n",
       "                      Comments Criteria on which aid is granted  \\\n",
       "0  Per year next academic year                            Merit   \n",
       "\n",
       "  Financial aid available Programme fees Type of aid available  \\\n",
       "0                     Yes          63980                         \n",
       "\n",
       "  Student assessment of facilities out of 5  \\\n",
       "0                                      4.67   \n",
       "\n",
       "                         ...                        Average GMAT score  \\\n",
       "0                        ...                                       730   \n",
       "\n",
       "  Average age Average number of years work experience Europe  \\\n",
       "0          27                                     4.6     10   \n",
       "\n",
       "  Gender diversity score out of 100 Geographical diversity score out of 100  \\\n",
       "0                              72.0                                    52.9   \n",
       "\n",
       "  North America Number of applicants per full-time place Other Americas  \\\n",
       "0            58                                        7             12   \n",
       "\n",
       "  Student rating of culture and classmates out of 5  \n",
       "0                                              4.60  \n",
       "\n",
       "[1 rows x 37 columns]"
      ]
     },
     "execution_count": 119,
     "metadata": {},
     "output_type": "execute_result"
    }
   ],
   "source": [
    "school_merged_info.head()"
   ]
  },
  {
   "cell_type": "code",
   "execution_count": null,
   "metadata": {
    "collapsed": false
   },
   "outputs": [],
   "source": []
  },
  {
   "cell_type": "code",
   "execution_count": 145,
   "metadata": {
    "collapsed": false
   },
   "outputs": [],
   "source": [
    "column_names = ['School Name','Programme fees', 'Student rating of faculty out of 5', 'Ratio of faculty to students', 'Student rating of programme out of 5', 'Average GMAT score',\n",
    "'Average number of years work experience', 'Average age', 'Student rating of culture and classmates out of 5', 'AfricaMiddle East', 'Other Americas', 'North America', 'Europe', 'AsiaAustralasia', 'Percentage who received a job offer within three months of graduation', 'Post-MBA salary', 'Increase on pre-MBA salary %',\n",
    "'Principal recruiters of graduates', 'Student rating of careers service out of 5','Percentage of graduates finding jobs through careers services','Geographical diversity score out of 100'\n",
    "]\n",
    "school_info_final = school_merged_info[column_names]\n",
    "columns_for_analysis = ['School Name','Programme fees', 'Student rating of faculty out of 5', 'Ratio of faculty to students', 'Student rating of programme out of 5', 'Average GMAT score',\n",
    "'Average number of years work experience', 'Average age', 'Student rating of culture and classmates out of 5', 'Percentage who received a job offer within three months of graduation', 'Post-MBA salary', 'Increase on pre-MBA salary %','Principal recruiters of graduates', 'Student rating of careers service out of 5','Percentage of graduates finding jobs through careers services','Geographical diversity score out of 100']\n",
    "school_info_for_analysis = school_info_final[columns_for_analysis]\n"
   ]
  },
  {
   "cell_type": "code",
   "execution_count": 146,
   "metadata": {
    "collapsed": false
   },
   "outputs": [],
   "source": [
    "full_school_data = pd.merge(school_rank_location, school_info_for_analysis, on ='School Name', how='inner')\n",
    "#full_school_data"
   ]
  },
  {
   "cell_type": "code",
   "execution_count": null,
   "metadata": {
    "collapsed": false
   },
   "outputs": [],
   "source": []
  },
  {
   "cell_type": "code",
   "execution_count": null,
   "metadata": {
    "collapsed": false
   },
   "outputs": [],
   "source": []
  },
  {
   "cell_type": "code",
   "execution_count": 36,
   "metadata": {
    "collapsed": false
   },
   "outputs": [],
   "source": []
  },
  {
   "cell_type": "code",
   "execution_count": 58,
   "metadata": {
    "collapsed": false
   },
   "outputs": [],
   "source": []
  },
  {
   "cell_type": "code",
   "execution_count": 147,
   "metadata": {
    "collapsed": false
   },
   "outputs": [],
   "source": [
    "#full_school_data\n",
    "full_school_data['Average number of years work experience'].replace(',', '.', inplace = True, regex = True)\n",
    "full_school_data['Principal recruiters of graduates'].replace('&amp;', '&', inplace = True, regex = True)\n",
    "full_school_data['Student rating of culture and classmates out of 5'].replace(',', '.', inplace = True, regex = True)\n",
    "full_school_data['Post-MBA salary'].replace(',', '', inplace = True, regex = True)"
   ]
  },
  {
   "cell_type": "code",
   "execution_count": 148,
   "metadata": {
    "collapsed": false
   },
   "outputs": [
    {
     "data": {
      "text/plain": [
       "(100, 18)"
      ]
     },
     "execution_count": 148,
     "metadata": {},
     "output_type": "execute_result"
    }
   ],
   "source": [
    "full_school_data.shape"
   ]
  },
  {
   "cell_type": "code",
   "execution_count": 152,
   "metadata": {
    "collapsed": false
   },
   "outputs": [],
   "source": [
    "#full_school_data"
   ]
  },
  {
   "cell_type": "code",
   "execution_count": 150,
   "metadata": {
    "collapsed": false
   },
   "outputs": [],
   "source": [
    "full_school_data.to_csv( 'full_school_data.csv' , index = False)"
   ]
  },
  {
   "cell_type": "code",
   "execution_count": 129,
   "metadata": {
    "collapsed": false
   },
   "outputs": [],
   "source": [
    "dfs = pd.read_csv('full_school_data.csv',encoding ='utf-8')"
   ]
  },
  {
   "cell_type": "code",
   "execution_count": null,
   "metadata": {
    "collapsed": false
   },
   "outputs": [],
   "source": []
  },
  {
   "cell_type": "code",
   "execution_count": null,
   "metadata": {
    "collapsed": false
   },
   "outputs": [],
   "source": []
  },
  {
   "cell_type": "code",
   "execution_count": null,
   "metadata": {
    "collapsed": true
   },
   "outputs": [],
   "source": []
  }
 ],
 "metadata": {
  "anaconda-cloud": {},
  "kernelspec": {
   "display_name": "Python [Root]",
   "language": "python",
   "name": "Python [Root]"
  },
  "language_info": {
   "codemirror_mode": {
    "name": "ipython",
    "version": 2
   },
   "file_extension": ".py",
   "mimetype": "text/x-python",
   "name": "python",
   "nbconvert_exporter": "python",
   "pygments_lexer": "ipython2",
   "version": "2.7.11"
  }
 },
 "nbformat": 4,
 "nbformat_minor": 0
}
